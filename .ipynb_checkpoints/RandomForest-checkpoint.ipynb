{
 "cells": [
  {
   "cell_type": "code",
   "execution_count": 1,
   "metadata": {
    "colab": {
     "base_uri": "https://localhost:8080/",
     "height": 124
    },
    "colab_type": "code",
    "executionInfo": {
     "elapsed": 29558,
     "status": "ok",
     "timestamp": 1589829047957,
     "user": {
      "displayName": "Ashray Sinha",
      "photoUrl": "https://lh3.googleusercontent.com/a-/AOh14GgGBds_CROXDfBG8GG1DbjxzAWMpm7WOmGZ3130sw=s64",
      "userId": "13087668075099496213"
     },
     "user_tz": -330
    },
    "id": "fY3uMec5MS-F",
    "outputId": "86d01395-d202-4d44-f651-baa9d1e8b125"
   },
   "outputs": [
    {
     "name": "stdout",
     "output_type": "stream",
     "text": [
      "Go to this URL in a browser: https://accounts.google.com/o/oauth2/auth?client_id=947318989803-6bn6qk8qdgf4n4g3pfee6491hc0brc4i.apps.googleusercontent.com&redirect_uri=urn%3aietf%3awg%3aoauth%3a2.0%3aoob&response_type=code&scope=email%20https%3a%2f%2fwww.googleapis.com%2fauth%2fdocs.test%20https%3a%2f%2fwww.googleapis.com%2fauth%2fdrive%20https%3a%2f%2fwww.googleapis.com%2fauth%2fdrive.photos.readonly%20https%3a%2f%2fwww.googleapis.com%2fauth%2fpeopleapi.readonly\n",
      "\n",
      "Enter your authorization code:\n",
      "··········\n",
      "Mounted at /content/drive\n"
     ]
    }
   ],
   "source": [
    "from google.colab import drive\n",
    "drive.mount('/content/drive')"
   ]
  },
  {
   "cell_type": "code",
   "execution_count": 1,
   "metadata": {
    "colab": {},
    "colab_type": "code",
    "id": "wlcXKoajMX48"
   },
   "outputs": [],
   "source": [
    "import xgboost as xgb\n",
    "import pickle as pkl\n",
    "import pandas as pd\n",
    "from pandas import Series,DataFrame\n",
    "import numpy as np\n",
    "import matplotlib.pyplot as plt\n",
    "%matplotlib inline"
   ]
  },
  {
   "cell_type": "code",
   "execution_count": 2,
   "metadata": {
    "colab": {},
    "colab_type": "code",
    "id": "dYD1pLbkMZYB"
   },
   "outputs": [],
   "source": [
    "file = open(\"train_df.pkl\",'rb')\n",
    "train_df = pkl.load(file)\n",
    "file = open(\"test_df.pkl\",'rb')\n",
    "test_df = pkl.load(file)\n",
    "file = open(\"closed_store_ids.pkl\",'rb')\n",
    "closed_store_ids = pkl.load(file)\n"
   ]
  },
  {
   "cell_type": "code",
   "execution_count": 3,
   "metadata": {
    "colab": {
     "base_uri": "https://localhost:8080/",
     "height": 211
    },
    "colab_type": "code",
    "executionInfo": {
     "elapsed": 10073,
     "status": "ok",
     "timestamp": 1589829604275,
     "user": {
      "displayName": "Ashray Sinha",
      "photoUrl": "https://lh3.googleusercontent.com/a-/AOh14GgGBds_CROXDfBG8GG1DbjxzAWMpm7WOmGZ3130sw=s64",
      "userId": "13087668075099496213"
     },
     "user_tz": -330
    },
    "id": "90Y8slqzMcPl",
    "outputId": "bb009acb-bd6a-4517-b9f7-1b516cb96623"
   },
   "outputs": [],
   "source": [
    "submissionrf1 = Series()\n",
    "submissionrf5 = Series()\n",
    "submissionrf10 = Series()\n",
    "submissionrf15 = Series()\n",
    "submissionrf20 = Series()\n",
    "\n",
    "from sklearn.ensemble import RandomForestRegressor\n",
    "X_train = train_df.drop([\"Sales\",\"Store\"],axis=1)\n",
    "Y_train = train_df[\"Sales\"]\n",
    "X_test  = test_df.copy()\n",
    "store_ids = X_test[\"Id\"]\n",
    "X_test.drop([\"Id\",\"Store\"], axis=1,inplace=True)\n",
    "\n",
    "rf1 = RandomForestRegressor(n_jobs = -1, n_estimators = 1)\n",
    "rf1.fit(X_train, Y_train)\n",
    "Y_pred1 = rf1.predict(X_test)\n",
    "\n",
    "rf5 = RandomForestRegressor(n_jobs = -1, n_estimators = 5)\n",
    "rf5.fit(X_train, Y_train)\n",
    "Y_pred5 = rf5.predict(X_test)\n",
    "\n",
    "rf10 = RandomForestRegressor(n_jobs = -1, n_estimators = 10)\n",
    "rf10.fit(X_train, Y_train)\n",
    "Y_pred10 = rf10.predict(X_test)\n",
    "\n",
    "rf15 = RandomForestRegressor(n_jobs = -1, n_estimators = 15)\n",
    "rf15.fit(X_train, Y_train)\n",
    "Y_pred15 = rf15.predict(X_test)\n",
    "\n",
    "rf20 = RandomForestRegressor(n_jobs = -1, n_estimators = 20)\n",
    "rf20.fit(X_train, Y_train)\n",
    "Y_pred20 = rf20.predict(X_test)"
   ]
  },
  {
   "cell_type": "code",
   "execution_count": 4,
   "metadata": {
    "colab": {},
    "colab_type": "code",
    "id": "LZomYHuXMySm"
   },
   "outputs": [],
   "source": [
    "submissionrf1 = pd.DataFrame({ \"Id\": \"Id\", \"Sales\": Y_pred1})\n",
    "submissionrf5 = pd.DataFrame({ \"Id\": \"Id\", \"Sales\": Y_pred5})\n",
    "submissionrf10 = pd.DataFrame({ \"Id\": \"Id\", \"Sales\": Y_pred10})\n",
    "submissionrf15 = pd.DataFrame({ \"Id\": \"Id\", \"Sales\": Y_pred15})\n",
    "submissionrf20 = pd.DataFrame({ \"Id\": \"Id\", \"Sales\": Y_pred20})"
   ]
  },
  {
   "cell_type": "code",
   "execution_count": 0,
   "metadata": {
    "colab": {},
    "colab_type": "code",
    "id": "fz-uf2scM0cs"
   },
   "outputs": [],
   "source": [
    "submissionrf1.to_csv('resultsrf1.csv', index=False)\n",
    "submissionrf5.to_csv('resultsrf5.csv', index=False)\n",
    "submissionrf10.to_csv('resultsrf10.csv', index=False)\n",
    "submissionrf15.to_csv('resultsrf15.csv', index=False)\n",
    "submissionrf20.to_csv('resultsrf20.csv', index=False)"
   ]
  },
  {
   "cell_type": "code",
   "execution_count": 0,
   "metadata": {
    "colab": {},
    "colab_type": "code",
    "id": "kOOBBlQ_M642"
   },
   "outputs": [],
   "source": []
  }
 ],
 "metadata": {
  "colab": {
   "authorship_tag": "ABX9TyNx480PzTKdQnQjWfLxrbC+",
   "collapsed_sections": [],
   "name": "RandomForest.ipynb",
   "provenance": []
  },
  "kernelspec": {
   "display_name": "Python 3",
   "language": "python",
   "name": "python3"
  },
  "language_info": {
   "codemirror_mode": {
    "name": "ipython",
    "version": 3
   },
   "file_extension": ".py",
   "mimetype": "text/x-python",
   "name": "python",
   "nbconvert_exporter": "python",
   "pygments_lexer": "ipython3",
   "version": "3.8.2"
  }
 },
 "nbformat": 4,
 "nbformat_minor": 1
}
